{
 "cells": [
  {
   "cell_type": "markdown",
   "id": "6073e3",
   "metadata": {
    "collapsed": false
   },
   "source": [
    "# Ambulance Posting Project\n",
    "\n",
    "## Exploratory Data Analysis\n",
    "\n"
   ]
  },
  {
   "cell_type": "code",
   "execution_count": 3,
   "id": "a34a20",
   "metadata": {
    "collapsed": false
   },
   "outputs": [
   ],
   "source": [
    "# Imports\n",
    "import os\n",
    "from urllib.request import urlretrieve\n",
    "import pandas as pd\n",
    "import numpy as np"
   ]
  },
  {
   "cell_type": "code",
   "execution_count": 14,
   "id": "89bd04",
   "metadata": {
    "collapsed": false
   },
   "outputs": [
    {
     "name": "stdout",
     "output_type": "stream",
     "text": [
      "Dataset already exists, skipping download...\n"
     ]
    },
    {
     "name": "stdout",
     "output_type": "stream",
     "text": [
      "<class 'pandas.core.frame.DataFrame'>\n",
      "RangeIndex: 895362 entries, 0 to 895361\n",
      "Data columns (total 14 columns):\n",
      " #   Column                      Non-Null Count   Dtype         \n",
      "---  ------                      --------------   -----         \n",
      " 0   create_time_incident        895127 non-null  datetime64[ns]\n",
      " 1   dispatch_time_primary_unit  813336 non-null  datetime64[ns]\n",
      " 2   arrival_time_primary_unit   767440 non-null  datetime64[ns]\n",
      " 3   closed_time_incident        878534 non-null  datetime64[ns]\n",
      " 4   incident_type_id            889536 non-null  object        \n",
      " 5   incident_type_desc          749409 non-null  object        \n",
      " 6   disposition_text            887885 non-null  object        \n",
      " 7   cfd_incident_type           719672 non-null  object        \n",
      " 8   cfd_incident_type_group     750073 non-null  object        \n",
      " 9   address_x                   895205 non-null  object        \n",
      " 10  latitude_x                  871772 non-null  float64       \n",
      " 11  longitude_x                 871772 non-null  float64       \n",
      " 12  neighborhood                869036 non-null  object        \n",
      " 13  beat                        894720 non-null  object        \n",
      "dtypes: datetime64[ns](4), float64(2), object(8)\n",
      "memory usage: 95.6+ MB\n"
     ]
    }
   ],
   "source": [
    "# Download the dataset if it is not already downloaded\n",
    "cfd_path = \"data/C1L6TY-6.csv\"\n",
    "\n",
    "if os.path.isfile(cfd_path):\n",
    "    print(\"Dataset already exists, skipping download...\")\n",
    "else:\n",
    "    cfd_url = \"https://data.cincinnati-oh.gov/resource/vnsz-a3wp.csv?$limit=10000000\"\n",
    "    urlretrieve(cfd_url, cfd_path)\n",
    "\n",
    "dt_format = \"%Y-%m-%dT%H:%M:%S.%f\"\n",
    "dt_columns=['create_time_incident', 'dispatch_time_primary_unit', 'arrival_time_primary_unit', 'closed_time_incident']\n",
    "\n",
    "df = pd.read_csv(cfd_path, parse_dates=dt_columns, date_format=dt_format)\n",
    "df = df[['create_time_incident', 'dispatch_time_primary_unit', 'arrival_time_primary_unit', 'closed_time_incident', 'incident_type_id', 'incident_type_desc', 'disposition_text', 'cfd_incident_type', 'cfd_incident_type_group', 'address_x', 'latitude_x', 'longitude_x', 'neighborhood', 'beat']]\n",
    "df.info()"
   ]
  },
  {
   "cell_type": "code",
   "execution_count": 0,
   "id": "281628",
   "metadata": {
    "collapsed": false
   },
   "outputs": [
   ],
   "source": [
   ]
  }
 ],
 "metadata": {
  "kernelspec": {
   "argv": [
    "/projects/c69a5738-00c3-40c3-ad23-267f82f7054d/venv/bin/python",
    "-Xfrozen_modules=off",
    "-m",
    "ipykernel_launcher",
    "-f",
    "{connection_file}"
   ],
   "display_name": "Custom venv",
   "env": {
   },
   "language": "python",
   "metadata": {
    "debugger": true
   },
   "name": "venv",
   "resource_dir": "/projects/c69a5738-00c3-40c3-ad23-267f82f7054d/.local/share/jupyter/kernels/venv"
  },
  "language_info": {
   "codemirror_mode": {
    "name": "ipython",
    "version": 3
   },
   "file_extension": ".py",
   "mimetype": "text/x-python",
   "name": "python",
   "nbconvert_exporter": "python",
   "pygments_lexer": "ipython3",
   "version": "3.12.3"
  }
 },
 "nbformat": 4,
 "nbformat_minor": 4
}