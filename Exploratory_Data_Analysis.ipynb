{
 "cells": [
  {
   "cell_type": "markdown",
   "id": "6073e3",
   "metadata": {
    "collapsed": false
   },
   "source": [
    "# Ambulance Posting Project\n",
    "\n",
    "## Exploratory Data Analysis\n",
    "\n"
   ]
  },
  {
   "cell_type": "code",
   "execution_count": 69,
   "id": "a34a20",
   "metadata": {
    "collapsed": false
   },
   "outputs": [
   ],
   "source": [
    "# Imports\n",
    "import os\n",
    "from urllib.request import urlretrieve\n",
    "import urllib\n",
    "import pandas as pd\n",
    "import numpy as np\n",
    "\n",
    "# Geo tools for handling coords and shapefiles\n",
    "import geopandas as gpd\n",
    "from shapely.geometry import Point"
   ]
  },
  {
   "cell_type": "markdown",
   "id": "bee0b6",
   "metadata": {
    "collapsed": false
   },
   "source": [
    "### Dataset\n",
    "\n",
    "The dataset I will use for this project is the [Cincinnati Fire Incidents \\(CAD\\) \\(including EMS: ALS/BLS\\)](https://data.cincinnati-oh.gov/Safety/Cincinnati-Fire-Incidents-CAD-including-EMS-ALS-BL/vnsz-a3wp/about_data) dataset from the city of Cincinnati website's Open Data. The page for the dataset has an overview and preview of the dataset, as well as 3 pdfs that further describe the usages of each field.\n",
    "\n",
    "First, I will download the data using their API endpoint. I can use SQL methods to limit the dataset. I will create a URL that limits the dataset to incidents from 2015 to 2024, and doesn't include columns that won't be useful to me. I can also exclude data that doesn't have latitude and longitude fields, since these will be essential for my project. Finally, I will make sure it's sorted by the create\\_time\\_incident column so I don't need to sort the data later.\n"
   ]
  },
  {
   "cell_type": "code",
   "execution_count": 70,
   "id": "09141c",
   "metadata": {
    "collapsed": false
   },
   "outputs": [
   ],
   "source": [
    "# Define columns\n",
    "dt_columns=['create_time_incident', 'dispatch_time_primary_unit', 'arrival_time_primary_unit', 'closed_time_incident']\n",
    "all_columns = dt_columns + ['incident_type_id', 'incident_type_desc', 'disposition_text', 'cfd_incident_type', 'cfd_incident_type_group', 'address_x', 'latitude_x', 'longitude_x', 'neighborhood', 'beat']"
   ]
  },
  {
   "cell_type": "code",
   "execution_count": 71,
   "id": "870b68",
   "metadata": {
    "collapsed": false
   },
   "outputs": [
   ],
   "source": [
    "# Base url for the query\n",
    "cfd_url = \"https://data.cincinnati-oh.gov/resource/vnsz-a3wp.csv?\"\n",
    "\n",
    "# SELECT columns\n",
    "cfd_url += f\"$query=SELECT \"\n",
    "cfd_url += ', '.join(all_columns)\n",
    "    \n",
    "# WHERE create_time_incident after 2015-01-01 00:00:00\n",
    "cfd_url += \" WHERE create_time_incident >= '2015-01-01T00:00:00' \"\n",
    "\n",
    "# AND create_time_incident before 2024-12-31 23:59:59\n",
    "cfd_url += \"AND create_time_incident <= '2024-12-31T23:59:59' \"\n",
    "\n",
    "# AND location fields are not NULL\n",
    "cfd_url += \"AND latitude_x IS NOT NULL \"\n",
    "cfd_url += \"AND longitude_x IS NOT NULL \"\n",
    "\n",
    "# ORDER BY create_time_incident\n",
    "cfd_url += \" ORDER BY create_time_incident \"\n",
    "\n",
    "# LIMIT 1000000\n",
    "cfd_url += \"LIMIT 1000000\"\n",
    "\n",
    "cfd_url = urllib.parse.quote(cfd_url, safe=\"/:$'=?,\", encoding='utf-8', errors='replace')"
   ]
  },
  {
   "cell_type": "code",
   "execution_count": 72,
   "id": "89bd04",
   "metadata": {
    "collapsed": false
   },
   "outputs": [
    {
     "name": "stdout",
     "output_type": "stream",
     "text": [
      "Dataset already exists, skipping download...\n"
     ]
    },
    {
     "name": "stdout",
     "output_type": "stream",
     "text": [
      "<class 'pandas.core.frame.DataFrame'>\n",
      "RangeIndex: 857944 entries, 0 to 857943\n",
      "Data columns (total 14 columns):\n",
      " #   Column                      Non-Null Count   Dtype         \n",
      "---  ------                      --------------   -----         \n",
      " 0   create_time_incident        857944 non-null  datetime64[ns]\n",
      " 1   dispatch_time_primary_unit  780365 non-null  datetime64[ns]\n",
      " 2   arrival_time_primary_unit   736859 non-null  datetime64[ns]\n",
      " 3   closed_time_incident        841542 non-null  datetime64[ns]\n",
      " 4   incident_type_id            852372 non-null  object        \n",
      " 5   incident_type_desc          725129 non-null  object        \n",
      " 6   disposition_text            850693 non-null  object        \n",
      " 7   cfd_incident_type           695394 non-null  object        \n",
      " 8   cfd_incident_type_group     725795 non-null  object        \n",
      " 9   address_x                   857792 non-null  object        \n",
      " 10  latitude_x                  857944 non-null  float64       \n",
      " 11  longitude_x                 857944 non-null  float64       \n",
      " 12  neighborhood                853068 non-null  object        \n",
      " 13  beat                        857715 non-null  object        \n",
      "dtypes: datetime64[ns](4), float64(2), object(8)\n",
      "memory usage: 91.6+ MB\n"
     ]
    }
   ],
   "source": [
    "# Download the dataset if it is not already downloaded\n",
    "cfd_path = \"data/C1L6TY-6.csv\"\n",
    "\n",
    "if os.path.isfile(cfd_path):\n",
    "    print(\"Dataset already exists, skipping download...\")\n",
    "else:\n",
    "    print(\"Downloading dataset... \")\n",
    "    urlretrieve(cfd_url, cfd_path)\n",
    "\n",
    "df = pd.read_csv(cfd_path, parse_dates=dt_columns, date_format=\"%Y-%m-%dT%H:%M:%S.%f\")\n",
    "df.info()"
   ]
  },
  {
   "cell_type": "markdown",
   "id": "281628",
   "metadata": {
    "collapsed": false
   },
   "source": [
    "The [CFD Data Visualization Exclusions.pdf](<CFD Data Visualization Exclusions.pdf>) from the dataset website documents values of certain fields that indicate entries where there was no response from the Cincinnati Fire Department. We can drop these rows from our dataset.\n"
   ]
  },
  {
   "cell_type": "code",
   "execution_count": 73,
   "id": "1a6b38",
   "metadata": {
    "collapsed": false
   },
   "outputs": [
    {
     "name": "stdout",
     "output_type": "stream",
     "text": [
      "Rows after dropping no response disposition_text values: 773322\n",
      "Rows after dropping no response cfd_incident_type_group values: 772483\n"
     ]
    }
   ],
   "source": [
    "# Eliminate rows that documentation says did not result in a response from CFD\n",
    "disp_text_no_response = ['AV: ADVISED','AV: ADVISED,CN: CANCEL','AV: ADVISED,CN: CANCEL,SBY: ST','AV: ADVISED,DEF: DEFAULT','AV: ADVISED,DUPF: DUPLICATE','AV: ADVISED,FADV: FIRE ADVISED','AV: ADVISED,TTY: TELETYPED','CAN:CANCEL','CANCEL INCIDENT','CN: CANCEL','CN: CANCEL,AV: ADVISED','CN: CANCEL,DEF: DEFAULT','CN: CANCEL,DUPF: DUPLICATE','CN: CANCEL,DUPF: DUPLICATE,FAD','CN: CANCEL,FADV: FIRE ADVISED','CN: CANCEL,FD: FIRE DISREGARD','CN: CANCEL,REASF: REASSIGNED','CN: CANCEL,SBY: STANDBY','CN: CANCEL,TTY: TELETYPED','CN: CANCEL,TTY: TELETYPED,DEF:','DUPF: DUPLICATE','DUPF: DUPLICATE,AV: ADVISED','DUPF: DUPLICATE,CN: CANCEL','DUPF: DUPLICATE,CN: CANCEL,DEF','DUPF: DUPLICATE,DEF: DEFAULT','DUPF: DUPLICATE,EMS: NO TRANSP','DUPF: DUPLICATE,FADV: FIRE ADV','DUPF: DUPLICATE,FALA: FIRE FAL','DUPF: DUPLICATE,GI: GOOD INTEN','DUPF: DUPLICATE,MAL: SYSTEM MA','DUPF: DUPLICATE,MEDT: MEDIC TR','DUPF: DUPLICATE,TTY: TELETYPED','DUPLICATE INCIDENT','TTY: TELETYPED']\n",
    "cfd_inc_type_no_response = ['FIRE ADVISED NO DISPATCH','FIRE DRILL NO RESPONSE','FIRE SERVICE NO DISPATCH/NOT USED','INFORMATION TELETYPE NO DISPATCH','NOT USED']\n",
    "\n",
    "df = df[~df['disposition_text'].isin(disp_text_no_response)]\n",
    "print(f'Rows after dropping no response disposition_text values: {df.shape[0]}')\n",
    "\n",
    "df = df[~df['cfd_incident_type_group'].isin(cfd_inc_type_no_response)]\n",
    "print(f'Rows after dropping no response cfd_incident_type_group values: {df.shape[0]}')"
   ]
  },
  {
   "cell_type": "markdown",
   "id": "afdb0a",
   "metadata": {
    "collapsed": false
   },
   "source": [
    "The [Cincinnati Fire Incidents \\(CAD\\) Data Dictionary.pdf](https://data.cincinnati-oh.gov/api/views/vnsz-a3wp/files/b149e911-467c-4828-9701-434e95cded55?download=true&filename=Cincinnati%20Fire%20Incidents%20(CAD)%20Data%20Dictionary.pdf) says that EMS responses For EMS responses have values ALS, BLS, NULL and MEDI in the cfd\\_incident\\_type field. The FIRE and OTHE fields are not EMS responses, so we can drop those.\n"
   ]
  },
  {
   "cell_type": "code",
   "execution_count": 74,
   "id": "c5228b",
   "metadata": {
    "collapsed": false
   },
   "outputs": [
    {
     "name": "stdout",
     "output_type": "stream",
     "text": [
      "Rows after dropping non-EMS cfd_incident_type values: 656794\n"
     ]
    }
   ],
   "source": [
    "# Get only EMS Responses\n",
    "df = df[~df['cfd_incident_type'].isin(['FIRE', 'OTHE'])]\n",
    "print(f'Rows after dropping non-EMS cfd_incident_type values: {df.shape[0]}')"
   ]
  },
  {
   "cell_type": "markdown",
   "id": "2988f0",
   "metadata": {
    "collapsed": false
   },
   "source": [
    "We do not need to include rows where a unit was never dispatched, so we will only keep rows whose dispatch\\_time\\_primary\\_unit value is not null.\n"
   ]
  },
  {
   "cell_type": "code",
   "execution_count": 75,
   "id": "fdc6c9",
   "metadata": {
    "collapsed": false
   },
   "outputs": [
    {
     "name": "stdout",
     "output_type": "stream",
     "text": [
      "Rows after dropping incidents with no dispatch time: 646294\n"
     ]
    }
   ],
   "source": [
    "# Drop incidents with no dispatch time\n",
    "df = df[df['dispatch_time_primary_unit'].notnull()]\n",
    "print(f'Rows after dropping incidents with no dispatch time: {df.shape[0]}')"
   ]
  },
  {
   "cell_type": "markdown",
   "id": "5e19cf",
   "metadata": {
    "collapsed": false
   },
   "source": [
    "Calls with a very short total duration \\(from creation to close\\) could not have had a true unit response, so we will try to eliminate some of these calls, as well.\n"
   ]
  },
  {
   "cell_type": "code",
   "execution_count": 76,
   "id": "d27690",
   "metadata": {
    "collapsed": false
   },
   "outputs": [
    {
     "name": "stdout",
     "output_type": "stream",
     "text": [
      "Rows after dropping incidents that were closed soon after creation: 631185\n"
     ]
    }
   ],
   "source": [
    "# Drop calls that were closed 2 minutes or less after creation\n",
    "df = df[abs((df['closed_time_incident'] - df['create_time_incident']).dt.total_seconds()) > 120]\n",
    "print(f'Rows after dropping incidents that were closed soon after creation: {df.shape[0]}')"
   ]
  },
  {
   "cell_type": "markdown",
   "id": "6f9eee",
   "metadata": {
    "collapsed": false
   },
   "source": [
    "### Mutual Aid Calls\n",
    "\n",
    "The majority of the incidents responded to are within the Cincinnati city limits, but some are not. These incident are usually mutual aid calls, which happen when a jurisdiction requests help from a neighbor. In these cases, surrounding areas are requesting aid from the Cincinnati Fire Department, and receiving a response unit. For the purposes of this project, we do not need to consider incidents that are outside of Cincinnati. The posting locations for ambulances around Cincinnati should be optimized for incidents that occur within the city boundaries. Although it is good to be able to respond to mutual aid calls quickly, these points are outliers that may distort the model.\n"
   ]
  },
  {
   "cell_type": "code",
   "execution_count": 77,
   "id": "612b43",
   "metadata": {
    "collapsed": false
   },
   "outputs": [
    {
     "data": {
      "text/html": [
       "<div>\n",
       "<style scoped>\n",
       "    .dataframe tbody tr th:only-of-type {\n",
       "        vertical-align: middle;\n",
       "    }\n",
       "\n",
       "    .dataframe tbody tr th {\n",
       "        vertical-align: top;\n",
       "    }\n",
       "\n",
       "    .dataframe thead th {\n",
       "        text-align: right;\n",
       "    }\n",
       "</style>\n",
       "<table border=\"1\" class=\"dataframe\">\n",
       "  <thead>\n",
       "    <tr style=\"text-align: right;\">\n",
       "      <th></th>\n",
       "      <th>latitude_x</th>\n",
       "      <th>longitude_x</th>\n",
       "    </tr>\n",
       "  </thead>\n",
       "  <tbody>\n",
       "    <tr>\n",
       "      <th>count</th>\n",
       "      <td>631185.000000</td>\n",
       "      <td>631185.000000</td>\n",
       "    </tr>\n",
       "    <tr>\n",
       "      <th>mean</th>\n",
       "      <td>39.141687</td>\n",
       "      <td>-84.516125</td>\n",
       "    </tr>\n",
       "    <tr>\n",
       "      <th>std</th>\n",
       "      <td>0.170007</td>\n",
       "      <td>0.069096</td>\n",
       "    </tr>\n",
       "    <tr>\n",
       "      <th>min</th>\n",
       "      <td>-45.997750</td>\n",
       "      <td>-114.997841</td>\n",
       "    </tr>\n",
       "    <tr>\n",
       "      <th>25%</th>\n",
       "      <td>39.114670</td>\n",
       "      <td>-84.559977</td>\n",
       "    </tr>\n",
       "    <tr>\n",
       "      <th>50%</th>\n",
       "      <td>39.137030</td>\n",
       "      <td>-84.516099</td>\n",
       "    </tr>\n",
       "    <tr>\n",
       "      <th>75%</th>\n",
       "      <td>39.160473</td>\n",
       "      <td>-84.484430</td>\n",
       "    </tr>\n",
       "    <tr>\n",
       "      <th>max</th>\n",
       "      <td>90.000660</td>\n",
       "      <td>-82.499190</td>\n",
       "    </tr>\n",
       "  </tbody>\n",
       "</table>\n",
       "</div>"
      ],
      "text/plain": [
       "          latitude_x    longitude_x\n",
       "count  631185.000000  631185.000000\n",
       "mean       39.141687     -84.516125\n",
       "std         0.170007       0.069096\n",
       "min       -45.997750    -114.997841\n",
       "25%        39.114670     -84.559977\n",
       "50%        39.137030     -84.516099\n",
       "75%        39.160473     -84.484430\n",
       "max        90.000660     -82.499190"
      ]
     },
     "execution_count": 77,
     "metadata": {
     },
     "output_type": "execute_result"
    }
   ],
   "source": [
    "display(df[['latitude_x','longitude_x']].describe())"
   ]
  },
  {
   "cell_type": "markdown",
   "id": "6baea5",
   "metadata": {
    "collapsed": false
   },
   "source": [
    "By limiting the locations to points within city limits, we can also eliminate some extreme outliers that were probably errors, such as the one displayed below. The location 90.006, \\-82.50002 is no where near Cincinnati, much less the given exit on I\\-74.\n"
   ]
  },
  {
   "cell_type": "code",
   "execution_count": 80,
   "id": "dac0aa",
   "metadata": {
    "collapsed": false
   },
   "outputs": [
    {
     "data": {
      "text/plain": [
       "create_time_incident                        2020-01-24 02:15:46\n",
       "dispatch_time_primary_unit                  2020-01-24 02:16:22\n",
       "arrival_time_primary_unit                   2020-01-24 02:22:29\n",
       "closed_time_incident                        2020-01-24 02:30:01\n",
       "incident_type_id                                  ACCI-COMBINED\n",
       "incident_type_desc            ACCIDENT WITH INJURIES (COMBINED)\n",
       "disposition_text                              EMS: NO TRANSPORT\n",
       "cfd_incident_type                                           NaN\n",
       "cfd_incident_type_group                    ACCIDENT WITH INJURY\n",
       "address_x                                         E I74 AT 17.9\n",
       "latitude_x                                             90.00066\n",
       "longitude_x                                           -82.50002\n",
       "neighborhood                                                NaN\n",
       "beat                                                       ST20\n",
       "Name: 402566, dtype: object"
      ]
     },
     "execution_count": 80,
     "metadata": {
     },
     "output_type": "execute_result"
    }
   ],
   "source": [
    "display(df.loc[df['latitude_x'].idxmax()])"
   ]
  },
  {
   "cell_type": "markdown",
   "id": "31c4d0",
   "metadata": {
    "collapsed": false
   },
   "source": [
    "I will use geopandas and a shapefile of the city of Cincinnati to filter out points that are not in the city boundaries.\n"
   ]
  },
  {
   "cell_type": "code",
   "execution_count": 81,
   "id": "7db7fb",
   "metadata": {
    "collapsed": false
   },
   "outputs": [
    {
     "name": "stdout",
     "output_type": "stream",
     "text": [
      "Rows after dropping incidents outside of Cincinnati area: 620186\n"
     ]
    },
    {
     "data": {
      "text/html": [
       "<div>\n",
       "<style scoped>\n",
       "    .dataframe tbody tr th:only-of-type {\n",
       "        vertical-align: middle;\n",
       "    }\n",
       "\n",
       "    .dataframe tbody tr th {\n",
       "        vertical-align: top;\n",
       "    }\n",
       "\n",
       "    .dataframe thead th {\n",
       "        text-align: right;\n",
       "    }\n",
       "</style>\n",
       "<table border=\"1\" class=\"dataframe\">\n",
       "  <thead>\n",
       "    <tr style=\"text-align: right;\">\n",
       "      <th></th>\n",
       "      <th>latitude_x</th>\n",
       "      <th>longitude_x</th>\n",
       "    </tr>\n",
       "  </thead>\n",
       "  <tbody>\n",
       "    <tr>\n",
       "      <th>count</th>\n",
       "      <td>620186.000000</td>\n",
       "      <td>620186.000000</td>\n",
       "    </tr>\n",
       "    <tr>\n",
       "      <th>mean</th>\n",
       "      <td>39.140997</td>\n",
       "      <td>-84.516778</td>\n",
       "    </tr>\n",
       "    <tr>\n",
       "      <th>std</th>\n",
       "      <td>0.031814</td>\n",
       "      <td>0.056259</td>\n",
       "    </tr>\n",
       "    <tr>\n",
       "      <th>min</th>\n",
       "      <td>39.053282</td>\n",
       "      <td>-84.709411</td>\n",
       "    </tr>\n",
       "    <tr>\n",
       "      <th>25%</th>\n",
       "      <td>39.114461</td>\n",
       "      <td>-84.559884</td>\n",
       "    </tr>\n",
       "    <tr>\n",
       "      <th>50%</th>\n",
       "      <td>39.136475</td>\n",
       "      <td>-84.516288</td>\n",
       "    </tr>\n",
       "    <tr>\n",
       "      <th>75%</th>\n",
       "      <td>39.159433</td>\n",
       "      <td>-84.485257</td>\n",
       "    </tr>\n",
       "    <tr>\n",
       "      <th>max</th>\n",
       "      <td>39.220870</td>\n",
       "      <td>-84.369038</td>\n",
       "    </tr>\n",
       "  </tbody>\n",
       "</table>\n",
       "</div>"
      ],
      "text/plain": [
       "          latitude_x    longitude_x\n",
       "count  620186.000000  620186.000000\n",
       "mean       39.140997     -84.516778\n",
       "std         0.031814       0.056259\n",
       "min        39.053282     -84.709411\n",
       "25%        39.114461     -84.559884\n",
       "50%        39.136475     -84.516288\n",
       "75%        39.159433     -84.485257\n",
       "max        39.220870     -84.369038"
      ]
     },
     "execution_count": 81,
     "metadata": {
     },
     "output_type": "execute_result"
    }
   ],
   "source": [
    "# Load shapefile\n",
    "shapefile_gdf = gpd.read_file(\"data/cincinnati_census_tracts/Social_Areas_2021_Cincinnati_City.shp\")\n",
    "shapefile_gdf.to_crs(epsg=4326, inplace=True)\n",
    "\n",
    "# Create geometry from shapefile\n",
    "geometry = [Point(xy) for xy in zip(df['longitude_x'], df['latitude_x'])]\n",
    "gps_gdf = gpd.GeoDataFrame(df, geometry=geometry)\n",
    "\n",
    "# Set CRS - GeoDataFrame has no CRS by default\n",
    "gps_gdf.set_crs(shapefile_gdf.crs, inplace=True)\n",
    "\n",
    "# Perform spatial join\n",
    "points_within = gpd.sjoin(gps_gdf, shapefile_gdf, how='inner', predicate='within')\n",
    "\n",
    "# Extract filtered GPS points\n",
    "df = points_within[df.columns]\n",
    "print(f'Rows after dropping incidents outside of Cincinnati area: {df.shape[0]}')\n",
    "\n",
    "# Describe the location fields again for comparison\n",
    "display(df[['latitude_x','longitude_x']].describe())"
   ]
  },
  {
   "cell_type": "code",
   "execution_count": 0,
   "id": "978cef",
   "metadata": {
    "collapsed": false
   },
   "outputs": [
   ],
   "source": [
   ]
  }
 ],
 "metadata": {
  "kernelspec": {
   "argv": [
    "/projects/c69a5738-00c3-40c3-ad23-267f82f7054d/venv/bin/python",
    "-Xfrozen_modules=off",
    "-m",
    "ipykernel_launcher",
    "-f",
    "{connection_file}"
   ],
   "display_name": "Custom venv",
   "env": {
   },
   "language": "python",
   "metadata": {
    "debugger": true
   },
   "name": "venv",
   "resource_dir": "/projects/c69a5738-00c3-40c3-ad23-267f82f7054d/.local/share/jupyter/kernels/venv"
  },
  "language_info": {
   "codemirror_mode": {
    "name": "ipython",
    "version": 3
   },
   "file_extension": ".py",
   "mimetype": "text/x-python",
   "name": "python",
   "nbconvert_exporter": "python",
   "pygments_lexer": "ipython3",
   "version": "3.12.3"
  }
 },
 "nbformat": 4,
 "nbformat_minor": 4
}